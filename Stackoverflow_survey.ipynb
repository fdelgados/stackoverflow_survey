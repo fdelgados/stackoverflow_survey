{
 "cells": [
  {
   "cell_type": "markdown",
   "metadata": {},
   "source": [
    "# Stack Overflow Survey\n",
    "\n",
    "## Some questions to answer before starting a career as a software developer\n",
    "\n",
    "### Business understanding\n",
    "\n",
    "In this project, I intend to answer some questions about the world of software development that can help novice developers make the right decisions at the beginning of their careers. To do that, I use the data contained in the Stack Overflow Annual Developer Survey 2019. The questions to answer are:\n",
    "\n",
    "1. What is the most popular programming language?\n",
    "2. Does the programming language influence the employment status?\n",
    "3. Do companies take care of code quality?\n",
    "\n",
    "I start loading the necessary libraries and data:"
   ]
  },
  {
   "cell_type": "code",
   "execution_count": 30,
   "metadata": {},
   "outputs": [],
   "source": [
    "import re\n",
    "import numpy as np\n",
    "import pandas as pd\n",
    "\n",
    "import matplotlib as mpl\n",
    "import matplotlib.pyplot as plt\n",
    "\n",
    "%matplotlib inline\n",
    "\n",
    "# Results data\n",
    "results_df = pd.read_csv('data/survey_results_public.csv')\n",
    "\n",
    "# Data schema\n",
    "schema_df = pd.read_csv('data/survey_results_schema.csv')"
   ]
  },
  {
   "cell_type": "markdown",
   "metadata": {},
   "source": [
    "### Data understanding\n",
    "\n",
    "Data preview"
   ]
  },
  {
   "cell_type": "code",
   "execution_count": 31,
   "metadata": {},
   "outputs": [
    {
     "name": "stdout",
     "output_type": "stream",
     "text": [
      "<class 'pandas.core.frame.DataFrame'>\n",
      "RangeIndex: 88883 entries, 0 to 88882\n",
      "Data columns (total 85 columns):\n",
      "Respondent                88883 non-null int64\n",
      "MainBranch                88331 non-null object\n",
      "Hobbyist                  88883 non-null object\n",
      "OpenSourcer               88883 non-null object\n",
      "OpenSource                86842 non-null object\n",
      "Employment                87181 non-null object\n",
      "Country                   88751 non-null object\n",
      "Student                   87014 non-null object\n",
      "EdLevel                   86390 non-null object\n",
      "UndergradMajor            75614 non-null object\n",
      "EduOther                  84260 non-null object\n",
      "OrgSize                   71791 non-null object\n",
      "DevType                   81335 non-null object\n",
      "YearsCode                 87938 non-null object\n",
      "Age1stCode                87634 non-null object\n",
      "YearsCodePro              74331 non-null object\n",
      "CareerSat                 72847 non-null object\n",
      "JobSat                    70988 non-null object\n",
      "MgrIdiot                  61159 non-null object\n",
      "MgrMoney                  61157 non-null object\n",
      "MgrWant                   61232 non-null object\n",
      "JobSeek                   80555 non-null object\n",
      "LastHireDate              79854 non-null object\n",
      "LastInt                   67155 non-null object\n",
      "FizzBuzz                  71344 non-null object\n",
      "JobFactors                79371 non-null object\n",
      "ResumeUpdate              77877 non-null object\n",
      "CurrencySymbol            71392 non-null object\n",
      "CurrencyDesc              71392 non-null object\n",
      "CompTotal                 55945 non-null float64\n",
      "CompFreq                  63268 non-null object\n",
      "ConvertedComp             55823 non-null float64\n",
      "WorkWeekHrs               64503 non-null float64\n",
      "WorkPlan                  68914 non-null object\n",
      "WorkChallenge             68141 non-null object\n",
      "WorkRemote                70284 non-null object\n",
      "WorkLoc                   70055 non-null object\n",
      "ImpSyn                    71779 non-null object\n",
      "CodeRev                   70390 non-null object\n",
      "CodeRevHrs                49790 non-null float64\n",
      "UnitTests                 62668 non-null object\n",
      "PurchaseHow               61108 non-null object\n",
      "PurchaseWhat              62029 non-null object\n",
      "LanguageWorkedWith        87569 non-null object\n",
      "LanguageDesireNextYear    84088 non-null object\n",
      "DatabaseWorkedWith        76026 non-null object\n",
      "DatabaseDesireNextYear    69147 non-null object\n",
      "PlatformWorkedWith        80714 non-null object\n",
      "PlatformDesireNextYear    77443 non-null object\n",
      "WebFrameWorkedWith        65022 non-null object\n",
      "WebFrameDesireNextYear    62944 non-null object\n",
      "MiscTechWorkedWith        59586 non-null object\n",
      "MiscTechDesireNextYear    64511 non-null object\n",
      "DevEnviron                87317 non-null object\n",
      "OpSys                     87851 non-null object\n",
      "Containers                85366 non-null object\n",
      "BlockchainOrg             48175 non-null object\n",
      "BlockchainIs              60165 non-null object\n",
      "BetterLife                86269 non-null object\n",
      "ITperson                  87141 non-null object\n",
      "OffOn                     86663 non-null object\n",
      "SocialMedia               84437 non-null object\n",
      "Extraversion              87305 non-null object\n",
      "ScreenName                80486 non-null object\n",
      "SOVisit1st                83877 non-null object\n",
      "SOVisitFreq               88263 non-null object\n",
      "SOVisitTo                 88086 non-null object\n",
      "SOFindAnswer              87816 non-null object\n",
      "SOTimeSaved               86344 non-null object\n",
      "SOHowMuchTime             68378 non-null object\n",
      "SOAccount                 87828 non-null object\n",
      "SOPartFreq                74692 non-null object\n",
      "SOJobs                    88066 non-null object\n",
      "EntTeams                  87841 non-null object\n",
      "SOComm                    88131 non-null object\n",
      "WelcomeChange             85855 non-null object\n",
      "SONewContent              69560 non-null object\n",
      "Age                       79210 non-null float64\n",
      "Gender                    85406 non-null object\n",
      "Trans                     83607 non-null object\n",
      "Sexuality                 76147 non-null object\n",
      "Ethnicity                 76668 non-null object\n",
      "Dependents                83059 non-null object\n",
      "SurveyLength              86984 non-null object\n",
      "SurveyEase                87081 non-null object\n",
      "dtypes: float64(5), int64(1), object(79)\n",
      "memory usage: 57.6+ MB\n"
     ]
    }
   ],
   "source": [
    "results_df.info()"
   ]
  },
  {
   "cell_type": "code",
   "execution_count": 32,
   "metadata": {},
   "outputs": [
    {
     "data": {
      "text/html": [
       "<div>\n",
       "<style scoped>\n",
       "    .dataframe tbody tr th:only-of-type {\n",
       "        vertical-align: middle;\n",
       "    }\n",
       "\n",
       "    .dataframe tbody tr th {\n",
       "        vertical-align: top;\n",
       "    }\n",
       "\n",
       "    .dataframe thead th {\n",
       "        text-align: right;\n",
       "    }\n",
       "</style>\n",
       "<table border=\"1\" class=\"dataframe\">\n",
       "  <thead>\n",
       "    <tr style=\"text-align: right;\">\n",
       "      <th></th>\n",
       "      <th>Column</th>\n",
       "      <th>QuestionText</th>\n",
       "    </tr>\n",
       "  </thead>\n",
       "  <tbody>\n",
       "    <tr>\n",
       "      <th>0</th>\n",
       "      <td>Respondent</td>\n",
       "      <td>Randomized respondent ID number (not in order ...</td>\n",
       "    </tr>\n",
       "    <tr>\n",
       "      <th>1</th>\n",
       "      <td>MainBranch</td>\n",
       "      <td>Which of the following options best describes ...</td>\n",
       "    </tr>\n",
       "    <tr>\n",
       "      <th>2</th>\n",
       "      <td>Hobbyist</td>\n",
       "      <td>Do you code as a hobby?</td>\n",
       "    </tr>\n",
       "    <tr>\n",
       "      <th>3</th>\n",
       "      <td>OpenSourcer</td>\n",
       "      <td>How often do you contribute to open source?</td>\n",
       "    </tr>\n",
       "    <tr>\n",
       "      <th>4</th>\n",
       "      <td>OpenSource</td>\n",
       "      <td>How do you feel about the quality of open sour...</td>\n",
       "    </tr>\n",
       "    <tr>\n",
       "      <th>5</th>\n",
       "      <td>Employment</td>\n",
       "      <td>Which of the following best describes your cur...</td>\n",
       "    </tr>\n",
       "    <tr>\n",
       "      <th>6</th>\n",
       "      <td>Country</td>\n",
       "      <td>In which country do you currently reside?</td>\n",
       "    </tr>\n",
       "    <tr>\n",
       "      <th>7</th>\n",
       "      <td>Student</td>\n",
       "      <td>Are you currently enrolled in a formal, degree...</td>\n",
       "    </tr>\n",
       "    <tr>\n",
       "      <th>8</th>\n",
       "      <td>EdLevel</td>\n",
       "      <td>Which of the following best describes the high...</td>\n",
       "    </tr>\n",
       "    <tr>\n",
       "      <th>9</th>\n",
       "      <td>UndergradMajor</td>\n",
       "      <td>What was your main or most important field of ...</td>\n",
       "    </tr>\n",
       "    <tr>\n",
       "      <th>10</th>\n",
       "      <td>EduOther</td>\n",
       "      <td>Which of the following types of non-degree edu...</td>\n",
       "    </tr>\n",
       "    <tr>\n",
       "      <th>11</th>\n",
       "      <td>OrgSize</td>\n",
       "      <td>Approximately how many people are employed by ...</td>\n",
       "    </tr>\n",
       "    <tr>\n",
       "      <th>12</th>\n",
       "      <td>DevType</td>\n",
       "      <td>Which of the following describe you? Please se...</td>\n",
       "    </tr>\n",
       "    <tr>\n",
       "      <th>13</th>\n",
       "      <td>YearsCode</td>\n",
       "      <td>Including any education, how many years have y...</td>\n",
       "    </tr>\n",
       "    <tr>\n",
       "      <th>14</th>\n",
       "      <td>Age1stCode</td>\n",
       "      <td>At what age did you write your first line of c...</td>\n",
       "    </tr>\n",
       "    <tr>\n",
       "      <th>15</th>\n",
       "      <td>YearsCodePro</td>\n",
       "      <td>How many years have you coded professionally (...</td>\n",
       "    </tr>\n",
       "    <tr>\n",
       "      <th>16</th>\n",
       "      <td>CareerSat</td>\n",
       "      <td>Overall, how satisfied are you with your caree...</td>\n",
       "    </tr>\n",
       "    <tr>\n",
       "      <th>17</th>\n",
       "      <td>JobSat</td>\n",
       "      <td>How satisfied are you with your current job? (...</td>\n",
       "    </tr>\n",
       "    <tr>\n",
       "      <th>18</th>\n",
       "      <td>MgrIdiot</td>\n",
       "      <td>How confident are you that your manager knows ...</td>\n",
       "    </tr>\n",
       "    <tr>\n",
       "      <th>19</th>\n",
       "      <td>MgrMoney</td>\n",
       "      <td>Do you believe that you need to be a manager t...</td>\n",
       "    </tr>\n",
       "    <tr>\n",
       "      <th>20</th>\n",
       "      <td>MgrWant</td>\n",
       "      <td>Do you want to become a manager yourself in th...</td>\n",
       "    </tr>\n",
       "    <tr>\n",
       "      <th>21</th>\n",
       "      <td>JobSeek</td>\n",
       "      <td>Which of the following best describes your cur...</td>\n",
       "    </tr>\n",
       "    <tr>\n",
       "      <th>22</th>\n",
       "      <td>LastHireDate</td>\n",
       "      <td>When was the last time that you took a job wit...</td>\n",
       "    </tr>\n",
       "    <tr>\n",
       "      <th>23</th>\n",
       "      <td>LastInt</td>\n",
       "      <td>In your most recent successful job interview (...</td>\n",
       "    </tr>\n",
       "    <tr>\n",
       "      <th>24</th>\n",
       "      <td>FizzBuzz</td>\n",
       "      <td>Have you ever been asked to solve FizzBuzz in ...</td>\n",
       "    </tr>\n",
       "    <tr>\n",
       "      <th>25</th>\n",
       "      <td>JobFactors</td>\n",
       "      <td>Imagine that you are deciding between two job ...</td>\n",
       "    </tr>\n",
       "    <tr>\n",
       "      <th>26</th>\n",
       "      <td>ResumeUpdate</td>\n",
       "      <td>Think back to the last time you updated your r...</td>\n",
       "    </tr>\n",
       "    <tr>\n",
       "      <th>27</th>\n",
       "      <td>CurrencySymbol</td>\n",
       "      <td>Which currency do you use day-to-day? If your ...</td>\n",
       "    </tr>\n",
       "    <tr>\n",
       "      <th>28</th>\n",
       "      <td>CurrencyDesc</td>\n",
       "      <td>Which currency do you use day-to-day? If your ...</td>\n",
       "    </tr>\n",
       "    <tr>\n",
       "      <th>29</th>\n",
       "      <td>CompTotal</td>\n",
       "      <td>What is your current total compensation (salar...</td>\n",
       "    </tr>\n",
       "    <tr>\n",
       "      <th>...</th>\n",
       "      <td>...</td>\n",
       "      <td>...</td>\n",
       "    </tr>\n",
       "    <tr>\n",
       "      <th>55</th>\n",
       "      <td>Containers</td>\n",
       "      <td>How do you use containers (Docker, Open Contai...</td>\n",
       "    </tr>\n",
       "    <tr>\n",
       "      <th>56</th>\n",
       "      <td>BlockchainOrg</td>\n",
       "      <td>How is your organization thinking about or imp...</td>\n",
       "    </tr>\n",
       "    <tr>\n",
       "      <th>57</th>\n",
       "      <td>BlockchainIs</td>\n",
       "      <td>Blockchain / cryptocurrency technology is prim...</td>\n",
       "    </tr>\n",
       "    <tr>\n",
       "      <th>58</th>\n",
       "      <td>BetterLife</td>\n",
       "      <td>Do you think people born today will have a bet...</td>\n",
       "    </tr>\n",
       "    <tr>\n",
       "      <th>59</th>\n",
       "      <td>ITperson</td>\n",
       "      <td>Are you the \"IT support person\" for your family?</td>\n",
       "    </tr>\n",
       "    <tr>\n",
       "      <th>60</th>\n",
       "      <td>OffOn</td>\n",
       "      <td>Have you tried turning it off and on again?</td>\n",
       "    </tr>\n",
       "    <tr>\n",
       "      <th>61</th>\n",
       "      <td>SocialMedia</td>\n",
       "      <td>What social media site do you use the most?</td>\n",
       "    </tr>\n",
       "    <tr>\n",
       "      <th>62</th>\n",
       "      <td>Extraversion</td>\n",
       "      <td>Do you prefer online chat or IRL conversations?</td>\n",
       "    </tr>\n",
       "    <tr>\n",
       "      <th>63</th>\n",
       "      <td>ScreenName</td>\n",
       "      <td>What do you call it?</td>\n",
       "    </tr>\n",
       "    <tr>\n",
       "      <th>64</th>\n",
       "      <td>SOVisit1st</td>\n",
       "      <td>To the best of your memory, when did you first...</td>\n",
       "    </tr>\n",
       "    <tr>\n",
       "      <th>65</th>\n",
       "      <td>SOVisitFreq</td>\n",
       "      <td>How frequently would you say you visit Stack O...</td>\n",
       "    </tr>\n",
       "    <tr>\n",
       "      <th>66</th>\n",
       "      <td>SOVisitTo</td>\n",
       "      <td>I visit Stack Overflow to... (check all that a...</td>\n",
       "    </tr>\n",
       "    <tr>\n",
       "      <th>67</th>\n",
       "      <td>SOFindAnswer</td>\n",
       "      <td>On average, how many times a week do you find ...</td>\n",
       "    </tr>\n",
       "    <tr>\n",
       "      <th>68</th>\n",
       "      <td>SOTimeSaved</td>\n",
       "      <td>Think back to the last time you solved a codin...</td>\n",
       "    </tr>\n",
       "    <tr>\n",
       "      <th>69</th>\n",
       "      <td>SOHowMuchTime</td>\n",
       "      <td>About how much time did you save? If you're no...</td>\n",
       "    </tr>\n",
       "    <tr>\n",
       "      <th>70</th>\n",
       "      <td>SOAccount</td>\n",
       "      <td>Do you have a Stack Overflow account?</td>\n",
       "    </tr>\n",
       "    <tr>\n",
       "      <th>71</th>\n",
       "      <td>SOPartFreq</td>\n",
       "      <td>How frequently would you say you participate i...</td>\n",
       "    </tr>\n",
       "    <tr>\n",
       "      <th>72</th>\n",
       "      <td>SOJobs</td>\n",
       "      <td>Have you ever used or visited Stack Overflow J...</td>\n",
       "    </tr>\n",
       "    <tr>\n",
       "      <th>73</th>\n",
       "      <td>EntTeams</td>\n",
       "      <td>Have you ever used Stack Overflow for Enterpri...</td>\n",
       "    </tr>\n",
       "    <tr>\n",
       "      <th>74</th>\n",
       "      <td>SOComm</td>\n",
       "      <td>Do you consider yourself a member of the Stack...</td>\n",
       "    </tr>\n",
       "    <tr>\n",
       "      <th>75</th>\n",
       "      <td>WelcomeChange</td>\n",
       "      <td>Compared to last year, how welcome do you feel...</td>\n",
       "    </tr>\n",
       "    <tr>\n",
       "      <th>76</th>\n",
       "      <td>SONewContent</td>\n",
       "      <td>Would you like to see any of the following on ...</td>\n",
       "    </tr>\n",
       "    <tr>\n",
       "      <th>77</th>\n",
       "      <td>Age</td>\n",
       "      <td>What is your age (in years)? If you prefer not...</td>\n",
       "    </tr>\n",
       "    <tr>\n",
       "      <th>78</th>\n",
       "      <td>Gender</td>\n",
       "      <td>Which of the following do you currently identi...</td>\n",
       "    </tr>\n",
       "    <tr>\n",
       "      <th>79</th>\n",
       "      <td>Trans</td>\n",
       "      <td>Do you identify as transgender?</td>\n",
       "    </tr>\n",
       "    <tr>\n",
       "      <th>80</th>\n",
       "      <td>Sexuality</td>\n",
       "      <td>Which of the following do you currently identi...</td>\n",
       "    </tr>\n",
       "    <tr>\n",
       "      <th>81</th>\n",
       "      <td>Ethnicity</td>\n",
       "      <td>Which of the following do you identify as? Ple...</td>\n",
       "    </tr>\n",
       "    <tr>\n",
       "      <th>82</th>\n",
       "      <td>Dependents</td>\n",
       "      <td>Do you have any dependents (e.g., children, el...</td>\n",
       "    </tr>\n",
       "    <tr>\n",
       "      <th>83</th>\n",
       "      <td>SurveyLength</td>\n",
       "      <td>How do you feel about the length of the survey...</td>\n",
       "    </tr>\n",
       "    <tr>\n",
       "      <th>84</th>\n",
       "      <td>SurveyEase</td>\n",
       "      <td>How easy or difficult was this survey to compl...</td>\n",
       "    </tr>\n",
       "  </tbody>\n",
       "</table>\n",
       "<p>85 rows × 2 columns</p>\n",
       "</div>"
      ],
      "text/plain": [
       "            Column                                       QuestionText\n",
       "0       Respondent  Randomized respondent ID number (not in order ...\n",
       "1       MainBranch  Which of the following options best describes ...\n",
       "2         Hobbyist                            Do you code as a hobby?\n",
       "3      OpenSourcer        How often do you contribute to open source?\n",
       "4       OpenSource  How do you feel about the quality of open sour...\n",
       "5       Employment  Which of the following best describes your cur...\n",
       "6          Country          In which country do you currently reside?\n",
       "7          Student  Are you currently enrolled in a formal, degree...\n",
       "8          EdLevel  Which of the following best describes the high...\n",
       "9   UndergradMajor  What was your main or most important field of ...\n",
       "10        EduOther  Which of the following types of non-degree edu...\n",
       "11         OrgSize  Approximately how many people are employed by ...\n",
       "12         DevType  Which of the following describe you? Please se...\n",
       "13       YearsCode  Including any education, how many years have y...\n",
       "14      Age1stCode  At what age did you write your first line of c...\n",
       "15    YearsCodePro  How many years have you coded professionally (...\n",
       "16       CareerSat  Overall, how satisfied are you with your caree...\n",
       "17          JobSat  How satisfied are you with your current job? (...\n",
       "18        MgrIdiot  How confident are you that your manager knows ...\n",
       "19        MgrMoney  Do you believe that you need to be a manager t...\n",
       "20         MgrWant  Do you want to become a manager yourself in th...\n",
       "21         JobSeek  Which of the following best describes your cur...\n",
       "22    LastHireDate  When was the last time that you took a job wit...\n",
       "23         LastInt  In your most recent successful job interview (...\n",
       "24        FizzBuzz  Have you ever been asked to solve FizzBuzz in ...\n",
       "25      JobFactors  Imagine that you are deciding between two job ...\n",
       "26    ResumeUpdate  Think back to the last time you updated your r...\n",
       "27  CurrencySymbol  Which currency do you use day-to-day? If your ...\n",
       "28    CurrencyDesc  Which currency do you use day-to-day? If your ...\n",
       "29       CompTotal  What is your current total compensation (salar...\n",
       "..             ...                                                ...\n",
       "55      Containers  How do you use containers (Docker, Open Contai...\n",
       "56   BlockchainOrg  How is your organization thinking about or imp...\n",
       "57    BlockchainIs  Blockchain / cryptocurrency technology is prim...\n",
       "58      BetterLife  Do you think people born today will have a bet...\n",
       "59        ITperson   Are you the \"IT support person\" for your family?\n",
       "60           OffOn        Have you tried turning it off and on again?\n",
       "61     SocialMedia        What social media site do you use the most?\n",
       "62    Extraversion    Do you prefer online chat or IRL conversations?\n",
       "63      ScreenName                               What do you call it?\n",
       "64      SOVisit1st  To the best of your memory, when did you first...\n",
       "65     SOVisitFreq  How frequently would you say you visit Stack O...\n",
       "66       SOVisitTo  I visit Stack Overflow to... (check all that a...\n",
       "67    SOFindAnswer  On average, how many times a week do you find ...\n",
       "68     SOTimeSaved  Think back to the last time you solved a codin...\n",
       "69   SOHowMuchTime  About how much time did you save? If you're no...\n",
       "70       SOAccount              Do you have a Stack Overflow account?\n",
       "71      SOPartFreq  How frequently would you say you participate i...\n",
       "72          SOJobs  Have you ever used or visited Stack Overflow J...\n",
       "73        EntTeams  Have you ever used Stack Overflow for Enterpri...\n",
       "74          SOComm  Do you consider yourself a member of the Stack...\n",
       "75   WelcomeChange  Compared to last year, how welcome do you feel...\n",
       "76    SONewContent  Would you like to see any of the following on ...\n",
       "77             Age  What is your age (in years)? If you prefer not...\n",
       "78          Gender  Which of the following do you currently identi...\n",
       "79           Trans                    Do you identify as transgender?\n",
       "80       Sexuality  Which of the following do you currently identi...\n",
       "81       Ethnicity  Which of the following do you identify as? Ple...\n",
       "82      Dependents  Do you have any dependents (e.g., children, el...\n",
       "83    SurveyLength  How do you feel about the length of the survey...\n",
       "84      SurveyEase  How easy or difficult was this survey to compl...\n",
       "\n",
       "[85 rows x 2 columns]"
      ]
     },
     "execution_count": 32,
     "metadata": {},
     "output_type": "execute_result"
    }
   ],
   "source": [
    "schema_df.head(100)"
   ]
  },
  {
   "cell_type": "markdown",
   "metadata": {},
   "source": [
    "To answer my questions of interest, I need data about language, employment status and best programming practices."
   ]
  },
  {
   "cell_type": "markdown",
   "metadata": {},
   "source": [
    "**Language**"
   ]
  },
  {
   "cell_type": "code",
   "execution_count": 33,
   "metadata": {
    "scrolled": false
   },
   "outputs": [
    {
     "data": {
      "text/html": [
       "<div>\n",
       "<style scoped>\n",
       "    .dataframe tbody tr th:only-of-type {\n",
       "        vertical-align: middle;\n",
       "    }\n",
       "\n",
       "    .dataframe tbody tr th {\n",
       "        vertical-align: top;\n",
       "    }\n",
       "\n",
       "    .dataframe thead th {\n",
       "        text-align: right;\n",
       "    }\n",
       "</style>\n",
       "<table border=\"1\" class=\"dataframe\">\n",
       "  <thead>\n",
       "    <tr style=\"text-align: right;\">\n",
       "      <th></th>\n",
       "      <th>Column</th>\n",
       "      <th>QuestionText</th>\n",
       "    </tr>\n",
       "  </thead>\n",
       "  <tbody>\n",
       "    <tr>\n",
       "      <th>43</th>\n",
       "      <td>LanguageWorkedWith</td>\n",
       "      <td>Which of the following programming, scripting,...</td>\n",
       "    </tr>\n",
       "    <tr>\n",
       "      <th>44</th>\n",
       "      <td>LanguageDesireNextYear</td>\n",
       "      <td>Which of the following programming, scripting,...</td>\n",
       "    </tr>\n",
       "  </tbody>\n",
       "</table>\n",
       "</div>"
      ],
      "text/plain": [
       "                    Column                                       QuestionText\n",
       "43      LanguageWorkedWith  Which of the following programming, scripting,...\n",
       "44  LanguageDesireNextYear  Which of the following programming, scripting,..."
      ]
     },
     "execution_count": 33,
     "metadata": {},
     "output_type": "execute_result"
    }
   ],
   "source": [
    "schema_df[schema_df['QuestionText'].str.contains('language', flags=re.IGNORECASE)]"
   ]
  },
  {
   "cell_type": "markdown",
   "metadata": {},
   "source": [
    "The language information is in `LanguageWorkedWith`."
   ]
  },
  {
   "cell_type": "markdown",
   "metadata": {},
   "source": [
    "**Employment**"
   ]
  },
  {
   "cell_type": "code",
   "execution_count": 34,
   "metadata": {},
   "outputs": [
    {
     "data": {
      "text/plain": [
       "array(['Which of the following best describes your current employment status?'],\n",
       "      dtype=object)"
      ]
     },
     "execution_count": 34,
     "metadata": {},
     "output_type": "execute_result"
    }
   ],
   "source": [
    "schema_df[schema_df['Column'] == 'Employment']['QuestionText'].values"
   ]
  },
  {
   "cell_type": "markdown",
   "metadata": {},
   "source": [
    "This information is in the `Employment` column."
   ]
  },
  {
   "cell_type": "markdown",
   "metadata": {},
   "source": [
    "**Best programming practices**\n",
    "\n",
    "This survey asks about unit tests and code reviews."
   ]
  },
  {
   "cell_type": "code",
   "execution_count": 35,
   "metadata": {},
   "outputs": [
    {
     "data": {
      "text/plain": [
       "array(['Does your company regularly employ unit tests in the development of their products?'],\n",
       "      dtype=object)"
      ]
     },
     "execution_count": 35,
     "metadata": {},
     "output_type": "execute_result"
    }
   ],
   "source": [
    "schema_df[schema_df['Column'] == 'UnitTests']['QuestionText'].values"
   ]
  },
  {
   "cell_type": "code",
   "execution_count": 36,
   "metadata": {},
   "outputs": [
    {
     "data": {
      "text/plain": [
       "array(['Do you review code as part of your work?'], dtype=object)"
      ]
     },
     "execution_count": 36,
     "metadata": {},
     "output_type": "execute_result"
    }
   ],
   "source": [
    "schema_df[schema_df['Column'] == 'CodeRev']['QuestionText'].values"
   ]
  },
  {
   "cell_type": "markdown",
   "metadata": {},
   "source": [
    "This information is in the `UnitTests` and `CodeRev` columns."
   ]
  },
  {
   "cell_type": "markdown",
   "metadata": {},
   "source": [
    "### Data preparation"
   ]
  },
  {
   "cell_type": "markdown",
   "metadata": {},
   "source": [
    "The respondent is in column `Respondent`.\n",
    "\n",
    "So I keep the columns `Respondent`, `Employment`, `LanguageWorkedWith`, `UnitTests` and `CodeRev` in a new dataset."
   ]
  },
  {
   "cell_type": "code",
   "execution_count": 37,
   "metadata": {},
   "outputs": [],
   "source": [
    "clean_results = results_df[['Respondent', 'LanguageWorkedWith', 'Employment', 'UnitTests', 'CodeRev']]"
   ]
  },
  {
   "cell_type": "code",
   "execution_count": 38,
   "metadata": {},
   "outputs": [
    {
     "data": {
      "text/html": [
       "<div>\n",
       "<style scoped>\n",
       "    .dataframe tbody tr th:only-of-type {\n",
       "        vertical-align: middle;\n",
       "    }\n",
       "\n",
       "    .dataframe tbody tr th {\n",
       "        vertical-align: top;\n",
       "    }\n",
       "\n",
       "    .dataframe thead th {\n",
       "        text-align: right;\n",
       "    }\n",
       "</style>\n",
       "<table border=\"1\" class=\"dataframe\">\n",
       "  <thead>\n",
       "    <tr style=\"text-align: right;\">\n",
       "      <th></th>\n",
       "      <th>Respondent</th>\n",
       "      <th>LanguageWorkedWith</th>\n",
       "      <th>Employment</th>\n",
       "      <th>UnitTests</th>\n",
       "      <th>CodeRev</th>\n",
       "    </tr>\n",
       "  </thead>\n",
       "  <tbody>\n",
       "    <tr>\n",
       "      <th>0</th>\n",
       "      <td>1</td>\n",
       "      <td>HTML/CSS;Java;JavaScript;Python</td>\n",
       "      <td>Not employed, and not looking for work</td>\n",
       "      <td>NaN</td>\n",
       "      <td>NaN</td>\n",
       "    </tr>\n",
       "    <tr>\n",
       "      <th>1</th>\n",
       "      <td>2</td>\n",
       "      <td>C++;HTML/CSS;Python</td>\n",
       "      <td>Not employed, but looking for work</td>\n",
       "      <td>NaN</td>\n",
       "      <td>NaN</td>\n",
       "    </tr>\n",
       "    <tr>\n",
       "      <th>2</th>\n",
       "      <td>3</td>\n",
       "      <td>HTML/CSS</td>\n",
       "      <td>Employed full-time</td>\n",
       "      <td>No, but I think we should</td>\n",
       "      <td>No</td>\n",
       "    </tr>\n",
       "    <tr>\n",
       "      <th>3</th>\n",
       "      <td>4</td>\n",
       "      <td>C;C++;C#;Python;SQL</td>\n",
       "      <td>Employed full-time</td>\n",
       "      <td>No, but I think we should</td>\n",
       "      <td>No</td>\n",
       "    </tr>\n",
       "    <tr>\n",
       "      <th>4</th>\n",
       "      <td>5</td>\n",
       "      <td>C++;HTML/CSS;Java;JavaScript;Python;SQL;VBA</td>\n",
       "      <td>Employed full-time</td>\n",
       "      <td>Yes, it's part of our process</td>\n",
       "      <td>Yes, because I see value in code review</td>\n",
       "    </tr>\n",
       "  </tbody>\n",
       "</table>\n",
       "</div>"
      ],
      "text/plain": [
       "   Respondent                           LanguageWorkedWith  \\\n",
       "0           1              HTML/CSS;Java;JavaScript;Python   \n",
       "1           2                          C++;HTML/CSS;Python   \n",
       "2           3                                     HTML/CSS   \n",
       "3           4                          C;C++;C#;Python;SQL   \n",
       "4           5  C++;HTML/CSS;Java;JavaScript;Python;SQL;VBA   \n",
       "\n",
       "                               Employment                      UnitTests  \\\n",
       "0  Not employed, and not looking for work                            NaN   \n",
       "1      Not employed, but looking for work                            NaN   \n",
       "2                      Employed full-time      No, but I think we should   \n",
       "3                      Employed full-time      No, but I think we should   \n",
       "4                      Employed full-time  Yes, it's part of our process   \n",
       "\n",
       "                                   CodeRev  \n",
       "0                                      NaN  \n",
       "1                                      NaN  \n",
       "2                                       No  \n",
       "3                                       No  \n",
       "4  Yes, because I see value in code review  "
      ]
     },
     "execution_count": 38,
     "metadata": {},
     "output_type": "execute_result"
    }
   ],
   "source": [
    "clean_results.head()"
   ]
  },
  {
   "cell_type": "markdown",
   "metadata": {},
   "source": [
    "I want to extract some information about programming languages, and I can only do that if I know what they are, so I will delete all the rows in which this value is missing."
   ]
  },
  {
   "cell_type": "code",
   "execution_count": 39,
   "metadata": {},
   "outputs": [
    {
     "name": "stdout",
     "output_type": "stream",
     "text": [
      "<class 'pandas.core.frame.DataFrame'>\n",
      "RangeIndex: 88883 entries, 0 to 88882\n",
      "Data columns (total 5 columns):\n",
      "Respondent            88883 non-null int64\n",
      "LanguageWorkedWith    87569 non-null object\n",
      "Employment            87181 non-null object\n",
      "UnitTests             62668 non-null object\n",
      "CodeRev               70390 non-null object\n",
      "dtypes: int64(1), object(4)\n",
      "memory usage: 3.4+ MB\n"
     ]
    }
   ],
   "source": [
    "clean_results.info()"
   ]
  },
  {
   "cell_type": "code",
   "execution_count": 40,
   "metadata": {},
   "outputs": [],
   "source": [
    "clean_results = clean_results.dropna(subset=['LanguageWorkedWith'])"
   ]
  },
  {
   "cell_type": "code",
   "execution_count": 41,
   "metadata": {},
   "outputs": [
    {
     "name": "stdout",
     "output_type": "stream",
     "text": [
      "<class 'pandas.core.frame.DataFrame'>\n",
      "Int64Index: 87569 entries, 0 to 88882\n",
      "Data columns (total 5 columns):\n",
      "Respondent            87569 non-null int64\n",
      "LanguageWorkedWith    87569 non-null object\n",
      "Employment            86018 non-null object\n",
      "UnitTests             62369 non-null object\n",
      "CodeRev               70033 non-null object\n",
      "dtypes: int64(1), object(4)\n",
      "memory usage: 4.0+ MB\n"
     ]
    }
   ],
   "source": [
    "clean_results.info()"
   ]
  },
  {
   "cell_type": "markdown",
   "metadata": {},
   "source": [
    "In addition, I will need a list of programming languages:"
   ]
  },
  {
   "cell_type": "code",
   "execution_count": 45,
   "metadata": {},
   "outputs": [],
   "source": [
    "def languages_s():\n",
    "    \"\"\"Returns a pandas.Series of languages\n",
    "    \n",
    "    :return: a pandas.Series of languages\n",
    "    \"\"\"\n",
    "    return pd.DataFrame(clean_results['LanguageWorkedWith'].str.split(';').tolist()).stack()\n",
    "\n",
    "def languages_list():\n",
    "    \"\"\"Returns a list of unique programming languages\n",
    "    \n",
    "    :return: List of unique programming languages\n",
    "    \"\"\"\n",
    "    languages = languages_s()\n",
    "    \n",
    "    return languages.unique().tolist()"
   ]
  },
  {
   "cell_type": "markdown",
   "metadata": {},
   "source": [
    "I need employment status information, so I will delete the rows with missing employment status."
   ]
  },
  {
   "cell_type": "code",
   "execution_count": 46,
   "metadata": {},
   "outputs": [],
   "source": [
    "employment_df = clean_results[['LanguageWorkedWith', 'Employment']].dropna(subset=['Employment'])"
   ]
  },
  {
   "cell_type": "code",
   "execution_count": 47,
   "metadata": {},
   "outputs": [
    {
     "name": "stdout",
     "output_type": "stream",
     "text": [
      "<class 'pandas.core.frame.DataFrame'>\n",
      "Int64Index: 86018 entries, 0 to 88882\n",
      "Data columns (total 2 columns):\n",
      "LanguageWorkedWith    86018 non-null object\n",
      "Employment            86018 non-null object\n",
      "dtypes: object(2)\n",
      "memory usage: 2.0+ MB\n"
     ]
    }
   ],
   "source": [
    "employment_df.info()"
   ]
  },
  {
   "cell_type": "markdown",
   "metadata": {},
   "source": [
    "With one hot encoding, I will convert each programming language in a column:"
   ]
  },
  {
   "cell_type": "code",
   "execution_count": 48,
   "metadata": {},
   "outputs": [],
   "source": [
    "def split_values(val, search):\n",
    "    try:\n",
    "        if val.find(search) >-1:\n",
    "            return 1\n",
    "        else:\n",
    "            return 0\n",
    "    except AttributeError:\n",
    "        return 0\n",
    "\n",
    "languages = languages_list()\n",
    "for language in languages:        \n",
    "    employment_df[language] = employment_df['LanguageWorkedWith'].apply(split_values, args=(language,))"
   ]
  },
  {
   "cell_type": "code",
   "execution_count": 49,
   "metadata": {},
   "outputs": [
    {
     "data": {
      "text/html": [
       "<div>\n",
       "<style scoped>\n",
       "    .dataframe tbody tr th:only-of-type {\n",
       "        vertical-align: middle;\n",
       "    }\n",
       "\n",
       "    .dataframe tbody tr th {\n",
       "        vertical-align: top;\n",
       "    }\n",
       "\n",
       "    .dataframe thead th {\n",
       "        text-align: right;\n",
       "    }\n",
       "</style>\n",
       "<table border=\"1\" class=\"dataframe\">\n",
       "  <thead>\n",
       "    <tr style=\"text-align: right;\">\n",
       "      <th></th>\n",
       "      <th>LanguageWorkedWith</th>\n",
       "      <th>Employment</th>\n",
       "      <th>HTML/CSS</th>\n",
       "      <th>Java</th>\n",
       "      <th>JavaScript</th>\n",
       "      <th>Python</th>\n",
       "      <th>C++</th>\n",
       "      <th>C</th>\n",
       "      <th>C#</th>\n",
       "      <th>SQL</th>\n",
       "      <th>...</th>\n",
       "      <th>Assembly</th>\n",
       "      <th>Kotlin</th>\n",
       "      <th>Swift</th>\n",
       "      <th>Objective-C</th>\n",
       "      <th>Elixir</th>\n",
       "      <th>Erlang</th>\n",
       "      <th>Clojure</th>\n",
       "      <th>F#</th>\n",
       "      <th>Scala</th>\n",
       "      <th>Dart</th>\n",
       "    </tr>\n",
       "  </thead>\n",
       "  <tbody>\n",
       "    <tr>\n",
       "      <th>0</th>\n",
       "      <td>HTML/CSS;Java;JavaScript;Python</td>\n",
       "      <td>Not employed, and not looking for work</td>\n",
       "      <td>1</td>\n",
       "      <td>1</td>\n",
       "      <td>1</td>\n",
       "      <td>1</td>\n",
       "      <td>0</td>\n",
       "      <td>1</td>\n",
       "      <td>0</td>\n",
       "      <td>0</td>\n",
       "      <td>...</td>\n",
       "      <td>0</td>\n",
       "      <td>0</td>\n",
       "      <td>0</td>\n",
       "      <td>0</td>\n",
       "      <td>0</td>\n",
       "      <td>0</td>\n",
       "      <td>0</td>\n",
       "      <td>0</td>\n",
       "      <td>0</td>\n",
       "      <td>0</td>\n",
       "    </tr>\n",
       "    <tr>\n",
       "      <th>1</th>\n",
       "      <td>C++;HTML/CSS;Python</td>\n",
       "      <td>Not employed, but looking for work</td>\n",
       "      <td>1</td>\n",
       "      <td>0</td>\n",
       "      <td>0</td>\n",
       "      <td>1</td>\n",
       "      <td>1</td>\n",
       "      <td>1</td>\n",
       "      <td>0</td>\n",
       "      <td>0</td>\n",
       "      <td>...</td>\n",
       "      <td>0</td>\n",
       "      <td>0</td>\n",
       "      <td>0</td>\n",
       "      <td>0</td>\n",
       "      <td>0</td>\n",
       "      <td>0</td>\n",
       "      <td>0</td>\n",
       "      <td>0</td>\n",
       "      <td>0</td>\n",
       "      <td>0</td>\n",
       "    </tr>\n",
       "    <tr>\n",
       "      <th>2</th>\n",
       "      <td>HTML/CSS</td>\n",
       "      <td>Employed full-time</td>\n",
       "      <td>1</td>\n",
       "      <td>0</td>\n",
       "      <td>0</td>\n",
       "      <td>0</td>\n",
       "      <td>0</td>\n",
       "      <td>1</td>\n",
       "      <td>0</td>\n",
       "      <td>0</td>\n",
       "      <td>...</td>\n",
       "      <td>0</td>\n",
       "      <td>0</td>\n",
       "      <td>0</td>\n",
       "      <td>0</td>\n",
       "      <td>0</td>\n",
       "      <td>0</td>\n",
       "      <td>0</td>\n",
       "      <td>0</td>\n",
       "      <td>0</td>\n",
       "      <td>0</td>\n",
       "    </tr>\n",
       "    <tr>\n",
       "      <th>3</th>\n",
       "      <td>C;C++;C#;Python;SQL</td>\n",
       "      <td>Employed full-time</td>\n",
       "      <td>0</td>\n",
       "      <td>0</td>\n",
       "      <td>0</td>\n",
       "      <td>1</td>\n",
       "      <td>1</td>\n",
       "      <td>1</td>\n",
       "      <td>1</td>\n",
       "      <td>1</td>\n",
       "      <td>...</td>\n",
       "      <td>0</td>\n",
       "      <td>0</td>\n",
       "      <td>0</td>\n",
       "      <td>0</td>\n",
       "      <td>0</td>\n",
       "      <td>0</td>\n",
       "      <td>0</td>\n",
       "      <td>0</td>\n",
       "      <td>0</td>\n",
       "      <td>0</td>\n",
       "    </tr>\n",
       "    <tr>\n",
       "      <th>4</th>\n",
       "      <td>C++;HTML/CSS;Java;JavaScript;Python;SQL;VBA</td>\n",
       "      <td>Employed full-time</td>\n",
       "      <td>1</td>\n",
       "      <td>1</td>\n",
       "      <td>1</td>\n",
       "      <td>1</td>\n",
       "      <td>1</td>\n",
       "      <td>1</td>\n",
       "      <td>0</td>\n",
       "      <td>1</td>\n",
       "      <td>...</td>\n",
       "      <td>0</td>\n",
       "      <td>0</td>\n",
       "      <td>0</td>\n",
       "      <td>0</td>\n",
       "      <td>0</td>\n",
       "      <td>0</td>\n",
       "      <td>0</td>\n",
       "      <td>0</td>\n",
       "      <td>0</td>\n",
       "      <td>0</td>\n",
       "    </tr>\n",
       "  </tbody>\n",
       "</table>\n",
       "<p>5 rows × 30 columns</p>\n",
       "</div>"
      ],
      "text/plain": [
       "                            LanguageWorkedWith  \\\n",
       "0              HTML/CSS;Java;JavaScript;Python   \n",
       "1                          C++;HTML/CSS;Python   \n",
       "2                                     HTML/CSS   \n",
       "3                          C;C++;C#;Python;SQL   \n",
       "4  C++;HTML/CSS;Java;JavaScript;Python;SQL;VBA   \n",
       "\n",
       "                               Employment  HTML/CSS  Java  JavaScript  Python  \\\n",
       "0  Not employed, and not looking for work         1     1           1       1   \n",
       "1      Not employed, but looking for work         1     0           0       1   \n",
       "2                      Employed full-time         1     0           0       0   \n",
       "3                      Employed full-time         0     0           0       1   \n",
       "4                      Employed full-time         1     1           1       1   \n",
       "\n",
       "   C++  C  C#  SQL  ...  Assembly  Kotlin  Swift  Objective-C  Elixir  Erlang  \\\n",
       "0    0  1   0    0  ...         0       0      0            0       0       0   \n",
       "1    1  1   0    0  ...         0       0      0            0       0       0   \n",
       "2    0  1   0    0  ...         0       0      0            0       0       0   \n",
       "3    1  1   1    1  ...         0       0      0            0       0       0   \n",
       "4    1  1   0    1  ...         0       0      0            0       0       0   \n",
       "\n",
       "   Clojure  F#  Scala  Dart  \n",
       "0        0   0      0     0  \n",
       "1        0   0      0     0  \n",
       "2        0   0      0     0  \n",
       "3        0   0      0     0  \n",
       "4        0   0      0     0  \n",
       "\n",
       "[5 rows x 30 columns]"
      ]
     },
     "execution_count": 49,
     "metadata": {},
     "output_type": "execute_result"
    }
   ],
   "source": [
    "employment_df.head()"
   ]
  },
  {
   "cell_type": "markdown",
   "metadata": {},
   "source": [
    "This is a list of employment statuses:"
   ]
  },
  {
   "cell_type": "code",
   "execution_count": 50,
   "metadata": {},
   "outputs": [
    {
     "data": {
      "text/plain": [
       "array(['Not employed, and not looking for work',\n",
       "       'Not employed, but looking for work', 'Employed full-time',\n",
       "       'Independent contractor, freelancer, or self-employed',\n",
       "       'Employed part-time', 'Retired'], dtype=object)"
      ]
     },
     "execution_count": 50,
     "metadata": {},
     "output_type": "execute_result"
    }
   ],
   "source": [
    "employments = employment_df['Employment'].unique()\n",
    "employments"
   ]
  },
  {
   "cell_type": "markdown",
   "metadata": {},
   "source": [
    "I want to know if it is more likely to have a job as a programmer of a particular language. I will create two groups: employed and unemployed."
   ]
  },
  {
   "cell_type": "code",
   "execution_count": 51,
   "metadata": {},
   "outputs": [],
   "source": [
    "employment_df = employment_df[~employment_df['Employment'].isin(['Not employed, and not looking for work', 'Retired'])]"
   ]
  },
  {
   "cell_type": "code",
   "execution_count": 52,
   "metadata": {},
   "outputs": [],
   "source": [
    "def is_employed(status):\n",
    "    \"\"\"Returns 1 if respondent is employed and 0 otherwise\n",
    "    \n",
    "    :param: Respondent answer\n",
    "    :return: 1 if respondent is employed, 0 otherwise\n",
    "    \"\"\"\n",
    "    if status == 'Not employed, but looking for work':\n",
    "        return 0\n",
    "    \n",
    "    return 1"
   ]
  },
  {
   "cell_type": "code",
   "execution_count": 53,
   "metadata": {},
   "outputs": [],
   "source": [
    "employment_df['employed'] = employment_df['Employment'].apply(is_employed)"
   ]
  },
  {
   "cell_type": "code",
   "execution_count": 54,
   "metadata": {
    "scrolled": true
   },
   "outputs": [
    {
     "data": {
      "text/html": [
       "<div>\n",
       "<style scoped>\n",
       "    .dataframe tbody tr th:only-of-type {\n",
       "        vertical-align: middle;\n",
       "    }\n",
       "\n",
       "    .dataframe tbody tr th {\n",
       "        vertical-align: top;\n",
       "    }\n",
       "\n",
       "    .dataframe thead th {\n",
       "        text-align: right;\n",
       "    }\n",
       "</style>\n",
       "<table border=\"1\" class=\"dataframe\">\n",
       "  <thead>\n",
       "    <tr style=\"text-align: right;\">\n",
       "      <th></th>\n",
       "      <th>LanguageWorkedWith</th>\n",
       "      <th>Employment</th>\n",
       "      <th>HTML/CSS</th>\n",
       "      <th>Java</th>\n",
       "      <th>JavaScript</th>\n",
       "      <th>Python</th>\n",
       "      <th>C++</th>\n",
       "      <th>C</th>\n",
       "      <th>C#</th>\n",
       "      <th>SQL</th>\n",
       "      <th>...</th>\n",
       "      <th>Kotlin</th>\n",
       "      <th>Swift</th>\n",
       "      <th>Objective-C</th>\n",
       "      <th>Elixir</th>\n",
       "      <th>Erlang</th>\n",
       "      <th>Clojure</th>\n",
       "      <th>F#</th>\n",
       "      <th>Scala</th>\n",
       "      <th>Dart</th>\n",
       "      <th>employed</th>\n",
       "    </tr>\n",
       "  </thead>\n",
       "  <tbody>\n",
       "    <tr>\n",
       "      <th>1</th>\n",
       "      <td>C++;HTML/CSS;Python</td>\n",
       "      <td>Not employed, but looking for work</td>\n",
       "      <td>1</td>\n",
       "      <td>0</td>\n",
       "      <td>0</td>\n",
       "      <td>1</td>\n",
       "      <td>1</td>\n",
       "      <td>1</td>\n",
       "      <td>0</td>\n",
       "      <td>0</td>\n",
       "      <td>...</td>\n",
       "      <td>0</td>\n",
       "      <td>0</td>\n",
       "      <td>0</td>\n",
       "      <td>0</td>\n",
       "      <td>0</td>\n",
       "      <td>0</td>\n",
       "      <td>0</td>\n",
       "      <td>0</td>\n",
       "      <td>0</td>\n",
       "      <td>0</td>\n",
       "    </tr>\n",
       "    <tr>\n",
       "      <th>2</th>\n",
       "      <td>HTML/CSS</td>\n",
       "      <td>Employed full-time</td>\n",
       "      <td>1</td>\n",
       "      <td>0</td>\n",
       "      <td>0</td>\n",
       "      <td>0</td>\n",
       "      <td>0</td>\n",
       "      <td>1</td>\n",
       "      <td>0</td>\n",
       "      <td>0</td>\n",
       "      <td>...</td>\n",
       "      <td>0</td>\n",
       "      <td>0</td>\n",
       "      <td>0</td>\n",
       "      <td>0</td>\n",
       "      <td>0</td>\n",
       "      <td>0</td>\n",
       "      <td>0</td>\n",
       "      <td>0</td>\n",
       "      <td>0</td>\n",
       "      <td>1</td>\n",
       "    </tr>\n",
       "    <tr>\n",
       "      <th>3</th>\n",
       "      <td>C;C++;C#;Python;SQL</td>\n",
       "      <td>Employed full-time</td>\n",
       "      <td>0</td>\n",
       "      <td>0</td>\n",
       "      <td>0</td>\n",
       "      <td>1</td>\n",
       "      <td>1</td>\n",
       "      <td>1</td>\n",
       "      <td>1</td>\n",
       "      <td>1</td>\n",
       "      <td>...</td>\n",
       "      <td>0</td>\n",
       "      <td>0</td>\n",
       "      <td>0</td>\n",
       "      <td>0</td>\n",
       "      <td>0</td>\n",
       "      <td>0</td>\n",
       "      <td>0</td>\n",
       "      <td>0</td>\n",
       "      <td>0</td>\n",
       "      <td>1</td>\n",
       "    </tr>\n",
       "    <tr>\n",
       "      <th>4</th>\n",
       "      <td>C++;HTML/CSS;Java;JavaScript;Python;SQL;VBA</td>\n",
       "      <td>Employed full-time</td>\n",
       "      <td>1</td>\n",
       "      <td>1</td>\n",
       "      <td>1</td>\n",
       "      <td>1</td>\n",
       "      <td>1</td>\n",
       "      <td>1</td>\n",
       "      <td>0</td>\n",
       "      <td>1</td>\n",
       "      <td>...</td>\n",
       "      <td>0</td>\n",
       "      <td>0</td>\n",
       "      <td>0</td>\n",
       "      <td>0</td>\n",
       "      <td>0</td>\n",
       "      <td>0</td>\n",
       "      <td>0</td>\n",
       "      <td>0</td>\n",
       "      <td>0</td>\n",
       "      <td>1</td>\n",
       "    </tr>\n",
       "    <tr>\n",
       "      <th>5</th>\n",
       "      <td>Java;R;SQL</td>\n",
       "      <td>Employed full-time</td>\n",
       "      <td>0</td>\n",
       "      <td>1</td>\n",
       "      <td>0</td>\n",
       "      <td>0</td>\n",
       "      <td>0</td>\n",
       "      <td>0</td>\n",
       "      <td>0</td>\n",
       "      <td>1</td>\n",
       "      <td>...</td>\n",
       "      <td>0</td>\n",
       "      <td>0</td>\n",
       "      <td>0</td>\n",
       "      <td>0</td>\n",
       "      <td>0</td>\n",
       "      <td>0</td>\n",
       "      <td>0</td>\n",
       "      <td>0</td>\n",
       "      <td>0</td>\n",
       "      <td>1</td>\n",
       "    </tr>\n",
       "  </tbody>\n",
       "</table>\n",
       "<p>5 rows × 31 columns</p>\n",
       "</div>"
      ],
      "text/plain": [
       "                            LanguageWorkedWith  \\\n",
       "1                          C++;HTML/CSS;Python   \n",
       "2                                     HTML/CSS   \n",
       "3                          C;C++;C#;Python;SQL   \n",
       "4  C++;HTML/CSS;Java;JavaScript;Python;SQL;VBA   \n",
       "5                                   Java;R;SQL   \n",
       "\n",
       "                           Employment  HTML/CSS  Java  JavaScript  Python  \\\n",
       "1  Not employed, but looking for work         1     0           0       1   \n",
       "2                  Employed full-time         1     0           0       0   \n",
       "3                  Employed full-time         0     0           0       1   \n",
       "4                  Employed full-time         1     1           1       1   \n",
       "5                  Employed full-time         0     1           0       0   \n",
       "\n",
       "   C++  C  C#  SQL  ...  Kotlin  Swift  Objective-C  Elixir  Erlang  Clojure  \\\n",
       "1    1  1   0    0  ...       0      0            0       0       0        0   \n",
       "2    0  1   0    0  ...       0      0            0       0       0        0   \n",
       "3    1  1   1    1  ...       0      0            0       0       0        0   \n",
       "4    1  1   0    1  ...       0      0            0       0       0        0   \n",
       "5    0  0   0    1  ...       0      0            0       0       0        0   \n",
       "\n",
       "   F#  Scala  Dart  employed  \n",
       "1   0      0     0         0  \n",
       "2   0      0     0         1  \n",
       "3   0      0     0         1  \n",
       "4   0      0     0         1  \n",
       "5   0      0     0         1  \n",
       "\n",
       "[5 rows x 31 columns]"
      ]
     },
     "execution_count": 54,
     "metadata": {},
     "output_type": "execute_result"
    }
   ],
   "source": [
    "employment_df.head()"
   ]
  },
  {
   "cell_type": "markdown",
   "metadata": {},
   "source": [
    "To know the employment rate per programming language, I will create a dataframe which columns will be the language, the employment rate percentages of this language and the unemployment rate percentage."
   ]
  },
  {
   "cell_type": "code",
   "execution_count": 70,
   "metadata": {},
   "outputs": [],
   "source": [
    "def employment_rate_perc():\n",
    "    \"\"\"Creates and returns a dataframe which columns are:\n",
    "        language = programming language\n",
    "        employed = employment rate percentage\n",
    "        unemployed = unemployment rate percentage\n",
    "    \n",
    "    :return: the mployment_rate_perc_df DataFrame\n",
    "    \"\"\"\n",
    "    lang_emp_status = []\n",
    "\n",
    "    languages = languages_list()\n",
    "    for language in languages:\n",
    "        total = num_unemployed = employment_df.loc[:, language].sum()\n",
    "\n",
    "        num_unemployed = employment_df.loc[employment_df['employed'] == 0, language].sum()\n",
    "        num_employed = employment_df.loc[employment_df['employed'] == 1, language].sum()\n",
    "\n",
    "        lang_emp_status.append({'language': language, \n",
    "                                'employed': num_employed/total * 100,\n",
    "                                'unemployed': num_unemployed / total * 100})\n",
    "\n",
    "    employment_rate_perc_df = pd.DataFrame(lang_emp_status, columns=['language', 'employed', 'unemployed'])\n",
    "    \n",
    "    return employment_rate_perc_df"
   ]
  },
  {
   "cell_type": "markdown",
   "metadata": {},
   "source": [
    "I will prepare data for the third question. In this case, I can't assume any value for missing values. I think the best strategy is to remove them instead of inferring."
   ]
  },
  {
   "cell_type": "code",
   "execution_count": 58,
   "metadata": {},
   "outputs": [
    {
     "name": "stdout",
     "output_type": "stream",
     "text": [
      "<class 'pandas.core.frame.DataFrame'>\n",
      "Int64Index: 62214 entries, 2 to 88330\n",
      "Data columns (total 2 columns):\n",
      "UnitTests    62214 non-null object\n",
      "CodeRev      62214 non-null object\n",
      "dtypes: object(2)\n",
      "memory usage: 1.4+ MB\n"
     ]
    }
   ],
   "source": [
    "quality_df = clean_results[['UnitTests', 'CodeRev']].dropna()\n",
    "quality_df.info()"
   ]
  },
  {
   "cell_type": "code",
   "execution_count": 59,
   "metadata": {},
   "outputs": [
    {
     "data": {
      "text/plain": [
       "array(['No, but I think we should', \"Yes, it's part of our process\",\n",
       "       \"Yes, it's not part of our process but the developers do it on their own\",\n",
       "       \"No, and I'm glad we don't\"], dtype=object)"
      ]
     },
     "execution_count": 59,
     "metadata": {},
     "output_type": "execute_result"
    }
   ],
   "source": [
    "quality_df['UnitTests'].unique()"
   ]
  },
  {
   "cell_type": "code",
   "execution_count": 60,
   "metadata": {},
   "outputs": [
    {
     "data": {
      "text/plain": [
       "array(['No', 'Yes, because I see value in code review',\n",
       "       'Yes, because I was told to do so'], dtype=object)"
      ]
     },
     "execution_count": 60,
     "metadata": {},
     "output_type": "execute_result"
    }
   ],
   "source": [
    "quality_df['CodeRev'].unique()"
   ]
  },
  {
   "cell_type": "markdown",
   "metadata": {},
   "source": [
    "I will convert these answers into binary values."
   ]
  },
  {
   "cell_type": "code",
   "execution_count": 61,
   "metadata": {},
   "outputs": [],
   "source": [
    "quality_df['CodeRev'] = quality_df['CodeRev'].apply(lambda x: 1 if x.startswith('Yes') else 0)\n",
    "quality_df['UnitTests'] = quality_df['UnitTests'].apply(lambda x: 1 if x.startswith('Yes') else 0)"
   ]
  },
  {
   "cell_type": "code",
   "execution_count": 62,
   "metadata": {},
   "outputs": [
    {
     "data": {
      "text/html": [
       "<div>\n",
       "<style scoped>\n",
       "    .dataframe tbody tr th:only-of-type {\n",
       "        vertical-align: middle;\n",
       "    }\n",
       "\n",
       "    .dataframe tbody tr th {\n",
       "        vertical-align: top;\n",
       "    }\n",
       "\n",
       "    .dataframe thead th {\n",
       "        text-align: right;\n",
       "    }\n",
       "</style>\n",
       "<table border=\"1\" class=\"dataframe\">\n",
       "  <thead>\n",
       "    <tr style=\"text-align: right;\">\n",
       "      <th></th>\n",
       "      <th>UnitTests</th>\n",
       "      <th>CodeRev</th>\n",
       "    </tr>\n",
       "  </thead>\n",
       "  <tbody>\n",
       "    <tr>\n",
       "      <th>2</th>\n",
       "      <td>0</td>\n",
       "      <td>0</td>\n",
       "    </tr>\n",
       "    <tr>\n",
       "      <th>3</th>\n",
       "      <td>0</td>\n",
       "      <td>0</td>\n",
       "    </tr>\n",
       "    <tr>\n",
       "      <th>4</th>\n",
       "      <td>1</td>\n",
       "      <td>1</td>\n",
       "    </tr>\n",
       "    <tr>\n",
       "      <th>5</th>\n",
       "      <td>1</td>\n",
       "      <td>0</td>\n",
       "    </tr>\n",
       "    <tr>\n",
       "      <th>8</th>\n",
       "      <td>1</td>\n",
       "      <td>1</td>\n",
       "    </tr>\n",
       "  </tbody>\n",
       "</table>\n",
       "</div>"
      ],
      "text/plain": [
       "   UnitTests  CodeRev\n",
       "2          0        0\n",
       "3          0        0\n",
       "4          1        1\n",
       "5          1        0\n",
       "8          1        1"
      ]
     },
     "execution_count": 62,
     "metadata": {},
     "output_type": "execute_result"
    }
   ],
   "source": [
    "quality_df.head()"
   ]
  },
  {
   "cell_type": "markdown",
   "metadata": {},
   "source": [
    "### Data modeling\n",
    "\n",
    "It is not necessary to create machine learning models\n",
    "\n",
    "### Evaluating results. Answering questions"
   ]
  },
  {
   "cell_type": "markdown",
   "metadata": {},
   "source": [
    "**`1.` What is the most popular programming language?**\n",
    "\n",
    "Let's see what the most popular programming language is."
   ]
  },
  {
   "cell_type": "code",
   "execution_count": 63,
   "metadata": {
    "scrolled": true
   },
   "outputs": [],
   "source": [
    "languages = languages_s()"
   ]
  },
  {
   "cell_type": "markdown",
   "metadata": {},
   "source": [
    "The ranking of languages is as follows:"
   ]
  },
  {
   "cell_type": "code",
   "execution_count": 65,
   "metadata": {},
   "outputs": [
    {
     "data": {
      "text/plain": [
       "JavaScript               59219\n",
       "HTML/CSS                 55466\n",
       "SQL                      47544\n",
       "Python                   36443\n",
       "Java                     35917\n",
       "Bash/Shell/PowerShell    31991\n",
       "C#                       27097\n",
       "PHP                      23030\n",
       "C++                      20524\n",
       "TypeScript               18523\n",
       "C                        18017\n",
       "Other(s):                 7920\n",
       "Ruby                      7331\n",
       "Go                        7201\n",
       "Assembly                  5833\n",
       "Swift                     5744\n",
       "Kotlin                    5620\n",
       "R                         5048\n",
       "VBA                       4781\n",
       "Objective-C               4191\n",
       "Scala                     3309\n",
       "Rust                      2794\n",
       "Dart                      1683\n",
       "Elixir                    1260\n",
       "Clojure                   1254\n",
       "WebAssembly               1015\n",
       "F#                         973\n",
       "Erlang                     777\n",
       "dtype: int64"
      ]
     },
     "execution_count": 65,
     "metadata": {},
     "output_type": "execute_result"
    }
   ],
   "source": [
    "lang_ranking = languages.value_counts().sort_values(ascending=False)\n",
    "lang_ranking"
   ]
  },
  {
   "cell_type": "markdown",
   "metadata": {},
   "source": [
    "Let's look at the ranking in a graph."
   ]
  },
  {
   "cell_type": "code",
   "execution_count": 66,
   "metadata": {},
   "outputs": [
    {
     "data": {
      "image/png": "[encoded data removed]",
      "text/plain": [
       "<Figure size 576x720 with 1 Axes>"
      ]
     },
     "metadata": {
      "needs_background": "light"
     },
     "output_type": "display_data"
    }
   ],
   "source": [
    "fig, ax = plt.subplots(figsize=(8, 10))\n",
    "    \n",
    "ax.barh(lang_ranking.index, lang_ranking.values)\n",
    "ax.set_title('Ranking of Programming Languages')\n",
    "ax.set_xlabel('Number of Developers')\n",
    "ax.set_ylabel('Language')\n",
    "ax.invert_yaxis()\n",
    "fig.savefig('popular_languages.png', bbox_inches='tight')\n",
    "plt.show();"
   ]
  },
  {
   "cell_type": "markdown",
   "metadata": {},
   "source": [
    "The winner is JavaScript, followed by HTML/CSS; this indicates the importance of front-end development. The third is SQL and the fourth Python; probably because of its intensive use in the field of Data Science. It's impressive how Python has surpassed a classic like Java. A situation that was unthinkable just a few years ago.\n",
    "\n",
    "I observed a gap after C, where languages used for particular tasks appear. I'm surprised to see Ruby's position. Do you remember when it was the sexiest language?"
   ]
  },
  {
   "cell_type": "markdown",
   "metadata": {},
   "source": [
    "**`2.` Does the programming language influence the employment status?**\n"
   ]
  },
  {
   "cell_type": "code",
   "execution_count": 71,
   "metadata": {},
   "outputs": [
    {
     "data": {
      "image/png": "[encoded data removed]",
      "text/plain": [
       "<Figure size 864x432 with 1 Axes>"
      ]
     },
     "metadata": {
      "needs_background": "light"
     },
     "output_type": "display_data"
    }
   ],
   "source": [
    "employment_status_df = employment_rate_perc()\n",
    "\n",
    "plt.subplots(figsize=(12, 6))\n",
    "\n",
    "width = 0.7\n",
    "plt.bar(employment_status_df['language'], employment_status_df['employed'], width=width, label='Employed')\n",
    "plt.bar(employment_status_df['language'], employment_status_df['unemployed'], width, label='Unemployed')\n",
    "plt.title('Employment rate per language')\n",
    "plt.ylabel('Employment rate')\n",
    "plt.xlabel('Language')\n",
    "plt.xticks(rotation=90)\n",
    "plt.legend(loc='best')\n",
    "plt.savefig('employment.png', bbox_inches='tight')\n",
    "plt.show();"
   ]
  },
  {
   "cell_type": "markdown",
   "metadata": {},
   "source": [
    "In general, the unemployment rate is low among developers. The languages that follow the functional paradigm like Scala or Elixir have quite the best employment rates and one of the lowest unemployment rates. On the other hand, old acquaintances as C ++ and Assembly do not go through their best moment. It may be that the difficulty of these languages makes companies bet on other technologies."
   ]
  },
  {
   "cell_type": "markdown",
   "metadata": {},
   "source": [
    "**`3.` Do companies take care of code quality?**\n",
    "\n",
    "Two of the most important quality indicators in the code are unit tests and code reviews. Sometimes, these practices do not receive the attention they deserve. Tight schedules and projects' deadlines put a lot of pressure on developers who choose to spend that time in writing code instead of writing tests and reviewing code."
   ]
  },
  {
   "cell_type": "code",
   "execution_count": 72,
   "metadata": {},
   "outputs": [
    {
     "data": {
      "text/plain": [
       "1    62.304304\n",
       "0    37.695696\n",
       "Name: UnitTests, dtype: float64"
      ]
     },
     "execution_count": 72,
     "metadata": {},
     "output_type": "execute_result"
    }
   ],
   "source": [
    "utests_percent = quality_df['UnitTests'].value_counts(normalize=True) * 100\n",
    "utests_percent"
   ]
  },
  {
   "cell_type": "code",
   "execution_count": 73,
   "metadata": {},
   "outputs": [
    {
     "data": {
      "text/plain": [
       "1    48037\n",
       "0    14177\n",
       "Name: CodeRev, dtype: int64"
      ]
     },
     "execution_count": 73,
     "metadata": {},
     "output_type": "execute_result"
    }
   ],
   "source": [
    "crev_percent = quality_df['CodeRev'].value_counts()\n",
    "crev_percent"
   ]
  },
  {
   "cell_type": "code",
   "execution_count": 74,
   "metadata": {},
   "outputs": [
    {
     "data": {
      "image/png": "[encoded data removed]",
      "text/plain": [
       "<Figure size 1008x432 with 2 Axes>"
      ]
     },
     "metadata": {},
     "output_type": "display_data"
    }
   ],
   "source": [
    "fig, (ax1, ax2) = plt.subplots(nrows=1, ncols=2, figsize=(14, 6))\n",
    "\n",
    "labels = ['Yes', 'No']\n",
    "ax1.pie(utests_percent, labels=labels, autopct='%1.1f%%', startangle=90)\n",
    "ax1.set_title('Does your company regularly employ unit tests in the development of their products?')\n",
    "\n",
    "ax2.pie(crev_percent, labels=labels, autopct='%1.1f%%', startangle=90)\n",
    "ax2.set_title('Do you review code as part of your work?')\n",
    "\n",
    "fig.savefig('best_practices.png', bbox_inches='tight')\n",
    "plt.show()"
   ]
  },
  {
   "cell_type": "markdown",
   "metadata": {},
   "source": [
    "Good news! Most developers follow the best programming practices in their work. But there is still a long way to go.\n",
    "\n",
    "Although most programmers create unit tests for their code, there are more than a third that don't. And believe me, code without a test is a severe problem. Maybe not today, not tomorrow, but someday that code will become a headache.\n",
    "\n",
    "As for code reviews, the problem is not so critical. But the benefits of doing them are enormous. Especially at the beginning of your career as a professional programmer, having a senior developer review your code is an excellent opportunity to learn from someone more skilled. I don't know any school that teaches that kind of thing."
   ]
  },
  {
   "cell_type": "code",
   "execution_count": null,
   "metadata": {},
   "outputs": [],
   "source": []
  }
 ],
 "metadata": {
  "kernelspec": {
   "display_name": "Python 3",
   "language": "python",
   "name": "python3"
  },
  "language_info": {
   "codemirror_mode": {
    "name": "ipython",
    "version": 3
   },
   "file_extension": ".py",
   "mimetype": "text/x-python",
   "name": "python",
   "nbconvert_exporter": "python",
   "pygments_lexer": "ipython3",
   "version": "3.7.3"
  },
  "latex_envs": {
   "LaTeX_envs_menu_present": true,
   "autoclose": false,
   "autocomplete": true,
   "bibliofile": "biblio.bib",
   "cite_by": "apalike",
   "current_citInitial": 1,
   "eqLabelWithNumbers": true,
   "eqNumInitial": 1,
   "hotkeys": {
    "equation": "Ctrl-E",
    "itemize": "Ctrl-I"
   },
   "labels_anchors": false,
   "latex_user_defs": false,
   "report_style_numbering": false,
   "user_envs_cfg": false
  }
 },
 "nbformat": 4,
 "nbformat_minor": 4
}
